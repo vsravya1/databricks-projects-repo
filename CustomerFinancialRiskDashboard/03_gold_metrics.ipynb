{
 "cells": [
  {
   "cell_type": "code",
   "execution_count": 0,
   "metadata": {
    "application/vnd.databricks.v1+cell": {
     "cellMetadata": {
      "byteLimit": 2048000,
      "rowLimit": 10000
     },
     "inputWidgets": {},
     "nuid": "b819bd46-52c7-4a63-95ad-f39c6078462b",
     "showTitle": false,
     "tableResultSettingsMap": {},
     "title": ""
    }
   },
   "outputs": [],
   "source": [
    "                                                                                                                                                                                                                                                                                                                                                                                                                                        from pyspark.sql import SparkSession\n",
    "from pyspark.sql.functions import col, round, countDistinct, avg, sum as _sum, desc\n",
    "from pyspark.sql.window import Window\n",
    "from pyspark.sql.functions import row_number"
   ]
  },
  {
   "cell_type": "code",
   "execution_count": 0,
   "metadata": {
    "application/vnd.databricks.v1+cell": {
     "cellMetadata": {
      "byteLimit": 2048000,
      "rowLimit": 10000
     },
     "inputWidgets": {},
     "nuid": "324be972-cae7-4bde-bd32-6f8997cbef4b",
     "showTitle": false,
     "tableResultSettingsMap": {},
     "title": ""
    }
   },
   "outputs": [],
   "source": [
    "silver_path = \"s3://dbr-tasks/silver/test_data_cleaned\"\n",
    "gold_path = \"s3://dbr-tasks/gold/test_data\"\n",
    "gold_table = \"uc_test.demo.gold_test_data\""
   ]
  },
  {
   "cell_type": "code",
   "execution_count": 0,
   "metadata": {
    "application/vnd.databricks.v1+cell": {
     "cellMetadata": {
      "byteLimit": 2048000,
      "rowLimit": 10000
     },
     "inputWidgets": {},
     "nuid": "262c19f9-5382-49a7-af03-8fd3b939e5a5",
     "showTitle": false,
     "tableResultSettingsMap": {},
     "title": ""
    }
   },
   "outputs": [],
   "source": [
    "df = spark.read.format(\"delta\").load(silver_path)"
   ]
  },
  {
   "cell_type": "code",
   "execution_count": 0,
   "metadata": {
    "application/vnd.databricks.v1+cell": {
     "cellMetadata": {
      "byteLimit": 2048000,
      "rowLimit": 10000
     },
     "inputWidgets": {},
     "nuid": "52f4b56d-7519-4496-84d1-403df3c938b8",
     "showTitle": false,
     "tableResultSettingsMap": {},
     "title": ""
    }
   },
   "outputs": [
    {
     "output_type": "execute_result",
     "data": {
      "text/plain": [
       "DataFrame[]"
      ]
     },
     "execution_count": 9,
     "metadata": {},
     "output_type": "execute_result"
    }
   ],
   "source": [
    "# 1) Latest record per customer (by month_date)\n",
    "w = Window.partitionBy(\"Customer_ID\").orderBy(col(\"month_date\").desc())\n",
    "df_latest = df.withColumn(\"_rn\", row_number().over(w)).filter(col(\"_rn\") == 1).drop(\"_rn\")\n",
    "df_latest = df_latest.select(\n",
    "    \"Customer_ID\", \"Name\", \"Age\", \"Occupation\", \"Annual_Income\", \"Monthly_Inhand_Salary\",\n",
    "    \"Num_Bank_Accounts\", \"Num_Credit_Card\", \"Interest_Rate\", \"loan_count\", \"Outstanding_Debt\",\n",
    "    \"Credit_Utilization_Ratio\", \"credit_history_total_months\", \"Payment_Behaviour\", \"credit_history_years\"\n",
    ")\n",
    "\n",
    "# write customer_latest\n",
    "cust_latest_path = gold_path + \"customer_latest\"\n",
    "df_latest.write.mode(\"overwrite\").format(\"delta\").save(cust_latest_path)\n",
    "spark.sql(\"DROP TABLE IF EXISTS uc_test.demo.gold_customer_latest\")\n",
    "spark.sql(f\"CREATE TABLE uc_test.demo.gold_customer_latest USING DELTA LOCATION '{cust_latest_path}'\")\n"
   ]
  },
  {
   "cell_type": "code",
   "execution_count": 0,
   "metadata": {
    "application/vnd.databricks.v1+cell": {
     "cellMetadata": {
      "byteLimit": 2048000,
      "rowLimit": 10000
     },
     "inputWidgets": {},
     "nuid": "e83cab52-30f5-45b5-b046-8e4da54c8a02",
     "showTitle": false,
     "tableResultSettingsMap": {},
     "title": ""
    }
   },
   "outputs": [
    {
     "output_type": "display_data",
     "data": {
      "text/html": [
       "<style scoped>\n",
       "  .table-result-container {\n",
       "    max-height: 300px;\n",
       "    overflow: auto;\n",
       "  }\n",
       "  table, th, td {\n",
       "    border: 1px solid black;\n",
       "    border-collapse: collapse;\n",
       "  }\n",
       "  th, td {\n",
       "    padding: 5px;\n",
       "  }\n",
       "  th {\n",
       "    text-align: left;\n",
       "  }\n",
       "</style><div class='table-result-container'><table class='table-result'><thead style='background-color: white'><tr><th>Customer_ID</th><th>Name</th><th>Age</th><th>Occupation</th><th>Annual_Income</th><th>Monthly_Inhand_Salary</th><th>Num_Bank_Accounts</th><th>Num_Credit_Card</th><th>Interest_Rate</th><th>loan_count</th><th>Outstanding_Debt</th><th>Credit_Utilization_Ratio</th><th>credit_history_total_months</th><th>Payment_Behaviour</th><th>credit_history_years</th></tr></thead><tbody><tr><td>CUS_0x1000</td><td>Alistair Barrf</td><td>18</td><td>lawyer</td><td>30625.94</td><td>2706.1616666666664</td><td>6</td><td>5</td><td>27</td><td>2</td><td>1562.91</td><td>27.020942138647204</td><td>133</td><td>high spent small value payments</td><td>11</td></tr><tr><td>CUS_0x1009</td><td>Arunah</td><td>26</td><td>mechanic</td><td>52312.68</td><td>4250.39</td><td>6</td><td>5</td><td>17</td><td>3</td><td>202.68</td><td>39.38209872972783</td><td>376</td><td>high spent medium value payments</td><td>31</td></tr><tr><td>CUS_0x100b</td><td>Shirboni</td><td>19</td><td> </td><td>113781.38999999998</td><td>null</td><td>1</td><td>4</td><td>1</td><td>null</td><td>1030.2</td><td>41.88767932</td><td>194</td><td>high spent large value payments</td><td>16</td></tr><tr><td>CUS_0x1011</td><td>Schneyerh</td><td>44</td><td>doctor</td><td>58918.47</td><td>5208.8725</td><td>3</td><td>3</td><td>17</td><td>3</td><td>473.14</td><td>26.560936818707447</td><td>194</td><td>high spent medium value payments</td><td>16</td></tr><tr><td>CUS_0x1013</td><td>Cameront</td><td>44</td><td>mechanic</td><td>98620.98</td><td>7962.415000000001</td><td>3</td><td>3</td><td>6</td><td>3</td><td>1233.51</td><td>39.746572495904154</td><td>218</td><td>!@9#%8</td><td>18</td></tr><tr><td>CUS_0x1015</td><td>Holtono</td><td>28</td><td>journalist</td><td>46951.02</td><td>3725.585</td><td>7</td><td>4</td><td>16</td><td>null</td><td>340.22</td><td>30.356054833296103</td><td>261</td><td>high spent medium value payments</td><td>21</td></tr><tr><td>CUS_0x1018</td><td>Felsenthalq</td><td>16</td><td>accountant</td><td>61194.81</td><td>5014.5675</td><td>7</td><td>7</td><td>840</td><td>7</td><td>2773.09</td><td>25.340918865493265</td><td>175</td><td>high spent small value payments</td><td>14</td></tr><tr><td>CUS_0x1026</td><td>Josephv</td><td>52</td><td>manager</td><td>170614.28</td><td>14463.856666666668</td><td>2</td><td>1320</td><td>9</td><td>2</td><td>849.69</td><td>39.14976364459192</td><td>null</td><td>high spent medium value payments</td><td>null</td></tr><tr><td>CUS_0x102d</td><td>Neil Chatterjeex</td><td>31</td><td>entrepreneur</td><td>89064.52</td><td>7256.043333333334</td><td>5</td><td>3</td><td>1</td><td>1</td><td>648.36</td><td>31.828242267790905</td><td>367</td><td>high spent large value payments</td><td>30</td></tr><tr><td>CUS_0x102e</td><td>Rhysn</td><td>26</td><td>scientist</td><td>50807.44</td><td>4197.953333333334</td><td>8</td><td>4</td><td>11</td><td>3</td><td>869.59</td><td>37.82838175144648</td><td>279</td><td>high spent small value payments</td><td>23</td></tr></tbody></table></div>"
      ]
     },
     "metadata": {
      "application/vnd.databricks.v1+output": {
       "addedWidgets": {},
       "aggData": [],
       "aggError": "",
       "aggOverflow": false,
       "aggSchema": [],
       "aggSeriesLimitReached": false,
       "aggType": "",
       "arguments": {},
       "columnCustomDisplayInfos": {},
       "data": [
        [
         "CUS_0x1000",
         "Alistair Barrf",
         18,
         "lawyer",
         30625.94,
         2706.1616666666664,
         6,
         5,
         27,
         2,
         1562.91,
         27.020942138647204,
         133,
         "high spent small value payments",
         11
        ],
        [
         "CUS_0x1009",
         "Arunah",
         26,
         "mechanic",
         52312.68,
         4250.39,
         6,
         5,
         17,
         3,
         202.68,
         39.38209872972783,
         376,
         "high spent medium value payments",
         31
        ],
        [
         "CUS_0x100b",
         "Shirboni",
         19,
         " ",
         113781.38999999998,
         null,
         1,
         4,
         1,
         null,
         1030.2,
         41.88767932,
         194,
         "high spent large value payments",
         16
        ],
        [
         "CUS_0x1011",
         "Schneyerh",
         44,
         "doctor",
         58918.47,
         5208.8725,
         3,
         3,
         17,
         3,
         473.14,
         26.560936818707447,
         194,
         "high spent medium value payments",
         16
        ],
        [
         "CUS_0x1013",
         "Cameront",
         44,
         "mechanic",
         98620.98,
         7962.415000000001,
         3,
         3,
         6,
         3,
         1233.51,
         39.746572495904154,
         218,
         "!@9#%8",
         18
        ],
        [
         "CUS_0x1015",
         "Holtono",
         28,
         "journalist",
         46951.02,
         3725.585,
         7,
         4,
         16,
         null,
         340.22,
         30.356054833296103,
         261,
         "high spent medium value payments",
         21
        ],
        [
         "CUS_0x1018",
         "Felsenthalq",
         16,
         "accountant",
         61194.81,
         5014.5675,
         7,
         7,
         840,
         7,
         2773.09,
         25.340918865493265,
         175,
         "high spent small value payments",
         14
        ],
        [
         "CUS_0x1026",
         "Josephv",
         52,
         "manager",
         170614.28,
         14463.856666666668,
         2,
         1320,
         9,
         2,
         849.69,
         39.14976364459192,
         null,
         "high spent medium value payments",
         null
        ],
        [
         "CUS_0x102d",
         "Neil Chatterjeex",
         31,
         "entrepreneur",
         89064.52,
         7256.043333333334,
         5,
         3,
         1,
         1,
         648.36,
         31.828242267790905,
         367,
         "high spent large value payments",
         30
        ],
        [
         "CUS_0x102e",
         "Rhysn",
         26,
         "scientist",
         50807.44,
         4197.953333333334,
         8,
         4,
         11,
         3,
         869.59,
         37.82838175144648,
         279,
         "high spent small value payments",
         23
        ]
       ],
       "datasetInfos": [],
       "dbfsResultPath": null,
       "isJsonSchema": true,
       "metadata": {},
       "overflow": false,
       "plotOptions": {
        "customPlotOptions": {},
        "displayType": "table",
        "pivotAggregation": null,
        "pivotColumns": null,
        "xColumns": null,
        "yColumns": null
       },
       "removedWidgets": [],
       "schema": [
        {
         "metadata": "{}",
         "name": "Customer_ID",
         "type": "\"string\""
        },
        {
         "metadata": "{}",
         "name": "Name",
         "type": "\"string\""
        },
        {
         "metadata": "{}",
         "name": "Age",
         "type": "\"integer\""
        },
        {
         "metadata": "{}",
         "name": "Occupation",
         "type": "\"string\""
        },
        {
         "metadata": "{}",
         "name": "Annual_Income",
         "type": "\"double\""
        },
        {
         "metadata": "{}",
         "name": "Monthly_Inhand_Salary",
         "type": "\"double\""
        },
        {
         "metadata": "{}",
         "name": "Num_Bank_Accounts",
         "type": "\"integer\""
        },
        {
         "metadata": "{}",
         "name": "Num_Credit_Card",
         "type": "\"integer\""
        },
        {
         "metadata": "{}",
         "name": "Interest_Rate",
         "type": "\"integer\""
        },
        {
         "metadata": "{}",
         "name": "loan_count",
         "type": "\"integer\""
        },
        {
         "metadata": "{}",
         "name": "Outstanding_Debt",
         "type": "\"double\""
        },
        {
         "metadata": "{}",
         "name": "Credit_Utilization_Ratio",
         "type": "\"double\""
        },
        {
         "metadata": "{}",
         "name": "credit_history_total_months",
         "type": "\"integer\""
        },
        {
         "metadata": "{}",
         "name": "Payment_Behaviour",
         "type": "\"string\""
        },
        {
         "metadata": "{}",
         "name": "credit_history_years",
         "type": "\"integer\""
        }
       ],
       "type": "table"
      }
     },
     "output_type": "display_data"
    }
   ],
   "source": [
    "display(df_latest.limit(10))"
   ]
  },
  {
   "cell_type": "code",
   "execution_count": 0,
   "metadata": {
    "application/vnd.databricks.v1+cell": {
     "cellMetadata": {
      "byteLimit": 2048000,
      "rowLimit": 10000
     },
     "inputWidgets": {},
     "nuid": "7d8e3353-aec0-43aa-85e4-684f9e39a2ed",
     "showTitle": false,
     "tableResultSettingsMap": {},
     "title": ""
    }
   },
   "outputs": [
    {
     "output_type": "execute_result",
     "data": {
      "text/plain": [
       "DataFrame[]"
      ]
     },
     "execution_count": 15,
     "metadata": {},
     "output_type": "execute_result"
    }
   ],
   "source": [
    "from pyspark.sql.functions import when, col, countDistinct, round, avg, sum as _sum\n",
    "\n",
    "monthly = df.groupBy(\"Month\", \"month_date\").agg(\n",
    "    countDistinct(\"Customer_ID\").alias(\"num_customers\"),\n",
    "    round(avg(\"Outstanding_Debt\"), 2).alias(\"avg_outstanding_debt\"),\n",
    "    round(avg(\"Credit_Utilization_Ratio\"), 2).alias(\"avg_credit_utilization\"),\n",
    "    round(avg(\"Annual_Income\"), 2).alias(\"avg_annual_income\"),\n",
    "    (\n",
    "        100.0 * _sum(when(col(\"Num_of_Delayed_Payment\") > 0, 1).otherwise(0)) / countDistinct(\"Customer_ID\")\n",
    "    ).alias(\"delinquency_rate_pct\")\n",
    ").orderBy(\"month_date\")\n",
    "\n",
    "monthly_path = gold_path + \"monthly_metrics\"\n",
    "monthly.write.mode(\"overwrite\").format(\"delta\").save(monthly_path)\n",
    "spark.sql(\"DROP TABLE IF EXISTS uc_test.demo.gold_monthly_metrics\")\n",
    "spark.sql(f\"CREATE TABLE uc_test.demo.gold_monthly_metrics USING DELTA LOCATION '{monthly_path}'\")"
   ]
  },
  {
   "cell_type": "code",
   "execution_count": 0,
   "metadata": {
    "application/vnd.databricks.v1+cell": {
     "cellMetadata": {
      "byteLimit": 2048000,
      "rowLimit": 10000
     },
     "inputWidgets": {},
     "nuid": "fd98821e-1d06-480a-ad7e-2da702fb51aa",
     "showTitle": false,
     "tableResultSettingsMap": {},
     "title": ""
    }
   },
   "outputs": [
    {
     "output_type": "display_data",
     "data": {
      "text/html": [
       "<style scoped>\n",
       "  .table-result-container {\n",
       "    max-height: 300px;\n",
       "    overflow: auto;\n",
       "  }\n",
       "  table, th, td {\n",
       "    border: 1px solid black;\n",
       "    border-collapse: collapse;\n",
       "  }\n",
       "  th, td {\n",
       "    padding: 5px;\n",
       "  }\n",
       "  th {\n",
       "    text-align: left;\n",
       "  }\n",
       "</style><div class='table-result-container'><table class='table-result'><thead style='background-color: white'><tr><th>Month</th><th>month_date</th><th>num_customers</th><th>avg_outstanding_debt</th><th>avg_credit_utilization</th><th>avg_annual_income</th><th>delinquency_rate_pct</th></tr></thead><tbody><tr><td>September</td><td>2025-09-01</td><td>12500</td><td>1426.22</td><td>32.23</td><td>153943.58</td><td>87.992</td></tr><tr><td>October</td><td>2025-10-01</td><td>12500</td><td>1426.22</td><td>32.33</td><td>162200.49</td><td>87.608</td></tr><tr><td>November</td><td>2025-11-01</td><td>12500</td><td>1426.22</td><td>32.26</td><td>165527.79</td><td>88.576</td></tr><tr><td>December</td><td>2025-12-01</td><td>12500</td><td>1426.22</td><td>32.29</td><td>183664.96</td><td>87.952</td></tr></tbody></table></div>"
      ]
     },
     "metadata": {
      "application/vnd.databricks.v1+output": {
       "addedWidgets": {},
       "aggData": [],
       "aggError": "",
       "aggOverflow": false,
       "aggSchema": [],
       "aggSeriesLimitReached": false,
       "aggType": "",
       "arguments": {},
       "columnCustomDisplayInfos": {},
       "data": [
        [
         "September",
         "2025-09-01",
         12500,
         1426.22,
         32.23,
         153943.58,
         87.992
        ],
        [
         "October",
         "2025-10-01",
         12500,
         1426.22,
         32.33,
         162200.49,
         87.608
        ],
        [
         "November",
         "2025-11-01",
         12500,
         1426.22,
         32.26,
         165527.79,
         88.576
        ],
        [
         "December",
         "2025-12-01",
         12500,
         1426.22,
         32.29,
         183664.96,
         87.952
        ]
       ],
       "datasetInfos": [],
       "dbfsResultPath": null,
       "isJsonSchema": true,
       "metadata": {},
       "overflow": false,
       "plotOptions": {
        "customPlotOptions": {},
        "displayType": "table",
        "pivotAggregation": null,
        "pivotColumns": null,
        "xColumns": null,
        "yColumns": null
       },
       "removedWidgets": [],
       "schema": [
        {
         "metadata": "{}",
         "name": "Month",
         "type": "\"string\""
        },
        {
         "metadata": "{}",
         "name": "month_date",
         "type": "\"date\""
        },
        {
         "metadata": "{}",
         "name": "num_customers",
         "type": "\"long\""
        },
        {
         "metadata": "{}",
         "name": "avg_outstanding_debt",
         "type": "\"double\""
        },
        {
         "metadata": "{}",
         "name": "avg_credit_utilization",
         "type": "\"double\""
        },
        {
         "metadata": "{}",
         "name": "avg_annual_income",
         "type": "\"double\""
        },
        {
         "metadata": "{}",
         "name": "delinquency_rate_pct",
         "type": "\"double\""
        }
       ],
       "type": "table"
      }
     },
     "output_type": "display_data"
    }
   ],
   "source": [
    "display(monthly.limit(5))"
   ]
  },
  {
   "cell_type": "code",
   "execution_count": 0,
   "metadata": {
    "application/vnd.databricks.v1+cell": {
     "cellMetadata": {
      "byteLimit": 2048000,
      "rowLimit": 10000
     },
     "inputWidgets": {},
     "nuid": "df516379-4740-49a8-9147-21dc784bf9a0",
     "showTitle": false,
     "tableResultSettingsMap": {},
     "title": ""
    }
   },
   "outputs": [
    {
     "output_type": "execute_result",
     "data": {
      "text/plain": [
       "DataFrame[]"
      ]
     },
     "execution_count": 17,
     "metadata": {},
     "output_type": "execute_result"
    }
   ],
   "source": [
    "# 3) Occupation / Payment behaviour aggregated metrics\n",
    "occupation_metrics = (df.groupBy(\"Occupation\")\n",
    "                      .agg(\n",
    "                          countDistinct(\"Customer_ID\").alias(\"customers\"),\n",
    "                          round(avg(\"Outstanding_Debt\"),2).alias(\"avg_outstanding_debt\"),\n",
    "                          round(avg(\"Credit_Utilization_Ratio\"),2).alias(\"avg_credit_utilization\")\n",
    "                      ).orderBy(desc(\"customers\")))\n",
    "occ_path = gold_path + \"occupation_metrics\"\n",
    "occupation_metrics.write.mode(\"overwrite\").format(\"delta\").save(occ_path)\n",
    "spark.sql(\"DROP TABLE IF EXISTS uc_test.demo.gold_occupation_metrics\")\n",
    "spark.sql(f\"CREATE TABLE uc_test.demo.gold_occupation_metrics USING DELTA LOCATION '{occ_path}'\")\n"
   ]
  },
  {
   "cell_type": "code",
   "execution_count": 0,
   "metadata": {
    "application/vnd.databricks.v1+cell": {
     "cellMetadata": {
      "byteLimit": 2048000,
      "rowLimit": 10000
     },
     "inputWidgets": {},
     "nuid": "a9951f8e-130b-4c33-8b99-27d061c9b6f3",
     "showTitle": false,
     "tableResultSettingsMap": {},
     "title": ""
    }
   },
   "outputs": [
    {
     "output_type": "display_data",
     "data": {
      "text/html": [
       "<style scoped>\n",
       "  .table-result-container {\n",
       "    max-height: 300px;\n",
       "    overflow: auto;\n",
       "  }\n",
       "  table, th, td {\n",
       "    border: 1px solid black;\n",
       "    border-collapse: collapse;\n",
       "  }\n",
       "  th, td {\n",
       "    padding: 5px;\n",
       "  }\n",
       "  th {\n",
       "    text-align: left;\n",
       "  }\n",
       "</style><div class='table-result-container'><table class='table-result'><thead style='background-color: white'><tr><th>Occupation</th><th>customers</th><th>avg_outstanding_debt</th><th>avg_credit_utilization</th></tr></thead><tbody><tr><td> </td><td>3101</td><td>1455.38</td><td>32.31</td></tr><tr><td>lawyer</td><td>887</td><td>1352.06</td><td>32.22</td></tr><tr><td>engineer</td><td>858</td><td>1444.23</td><td>32.3</td></tr><tr><td>architect</td><td>853</td><td>1335.06</td><td>32.3</td></tr><tr><td>mechanic</td><td>847</td><td>1488.22</td><td>32.37</td></tr></tbody></table></div>"
      ]
     },
     "metadata": {
      "application/vnd.databricks.v1+output": {
       "addedWidgets": {},
       "aggData": [],
       "aggError": "",
       "aggOverflow": false,
       "aggSchema": [],
       "aggSeriesLimitReached": false,
       "aggType": "",
       "arguments": {},
       "columnCustomDisplayInfos": {},
       "data": [
        [
         " ",
         3101,
         1455.38,
         32.31
        ],
        [
         "lawyer",
         887,
         1352.06,
         32.22
        ],
        [
         "engineer",
         858,
         1444.23,
         32.3
        ],
        [
         "architect",
         853,
         1335.06,
         32.3
        ],
        [
         "mechanic",
         847,
         1488.22,
         32.37
        ]
       ],
       "datasetInfos": [],
       "dbfsResultPath": null,
       "isJsonSchema": true,
       "metadata": {},
       "overflow": false,
       "plotOptions": {
        "customPlotOptions": {},
        "displayType": "table",
        "pivotAggregation": null,
        "pivotColumns": null,
        "xColumns": null,
        "yColumns": null
       },
       "removedWidgets": [],
       "schema": [
        {
         "metadata": "{}",
         "name": "Occupation",
         "type": "\"string\""
        },
        {
         "metadata": "{}",
         "name": "customers",
         "type": "\"long\""
        },
        {
         "metadata": "{}",
         "name": "avg_outstanding_debt",
         "type": "\"double\""
        },
        {
         "metadata": "{}",
         "name": "avg_credit_utilization",
         "type": "\"double\""
        }
       ],
       "type": "table"
      }
     },
     "output_type": "display_data"
    }
   ],
   "source": [
    "display(occupation_metrics.limit(5))"
   ]
  },
  {
   "cell_type": "code",
   "execution_count": 0,
   "metadata": {
    "application/vnd.databricks.v1+cell": {
     "cellMetadata": {
      "byteLimit": 2048000,
      "rowLimit": 10000
     },
     "inputWidgets": {},
     "nuid": "58e2dddb-d6b4-4f93-8ab0-eeb44a3f9888",
     "showTitle": false,
     "tableResultSettingsMap": {},
     "title": ""
    }
   },
   "outputs": [
    {
     "output_type": "execute_result",
     "data": {
      "text/plain": [
       "DataFrame[]"
      ]
     },
     "execution_count": 20,
     "metadata": {},
     "output_type": "execute_result"
    }
   ],
   "source": [
    "# 4) Top customers by outstanding debt (top 50)\n",
    "top_customers = df_latest.select(\"Customer_ID\", \"Name\", \"Outstanding_Debt\", \"Credit_Utilization_Ratio\", \"Annual_Income\") \\\n",
    "    .orderBy(desc(\"Outstanding_Debt\")).limit(50)\n",
    "top_path = gold_path + \"top_customers\"\n",
    "top_customers.write.mode(\"overwrite\").format(\"delta\").save(top_path)\n",
    "spark.sql(\"DROP TABLE IF EXISTS uc_test.demo.gold_top_customers\")\n",
    "spark.sql(f\"CREATE TABLE uc_test.demo.gold_top_customers USING DELTA LOCATION '{top_path}'\")"
   ]
  }
 ],
 "metadata": {
  "application/vnd.databricks.v1+notebook": {
   "computePreferences": null,
   "dashboards": [],
   "environmentMetadata": {
    "base_environment": "",
    "environment_version": "4"
   },
   "inputWidgetPreferences": null,
   "language": "python",
   "notebookMetadata": {
    "pythonIndentUnit": 4
   },
   "notebookName": "03_gold_metrics",
   "widgets": {}
  },
  "language_info": {
   "name": "python"
  }
 },
 "nbformat": 4,
 "nbformat_minor": 0
}